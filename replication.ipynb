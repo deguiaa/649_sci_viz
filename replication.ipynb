{
 "cells": [
  {
   "cell_type": "code",
   "execution_count": 65,
   "metadata": {},
   "outputs": [
    {
     "data": {
      "text/plain": [
       "RendererRegistry.enable('jupyterlab')"
      ]
     },
     "execution_count": 65,
     "metadata": {},
     "output_type": "execute_result"
    }
   ],
   "source": [
    "import json\n",
    "import pandas as pd\n",
    "import altair as alt\n",
    "from collections import Counter\n",
    "import numpy as np\n",
    "import matplotlib.pyplot as plt\n",
    "import panel as pn\n",
    "# alt.data_transformers.enable(\"vegafusion\")\n",
    "# Solve a javascript error by explicitly setting the renderer\n",
    "alt.renderers.enable('jupyterlab')"
   ]
  },
  {
   "cell_type": "code",
   "execution_count": 66,
   "metadata": {},
   "outputs": [],
   "source": [
    "events = {}\n",
    "nations = ['Italy', 'England', 'Germany', 'France', 'Spain', 'European_Championship', 'World_Cup']\n",
    "for nation in nations:\n",
    "    with open('./data/events/events_%s.json' % nation) as json_data:\n",
    "        events[nation] = json.load(json_data)\n"
   ]
  },
  {
   "cell_type": "code",
   "execution_count": 8,
   "metadata": {},
   "outputs": [],
   "source": [
    "# Replicating Static Graph\n",
    "def in_match_evolution(event_name='Goal', event_tag=101):\n",
    "    event_time = []\n",
    "    excluded_tags = ['e1', 'e2', 'p']\n",
    "    for nation in nations:\n",
    "        for ev in events[nation]:\n",
    "            if all(tag['id'] not in excluded_tags for tag in ev['tags']) and any(tag['id'] == event_tag for tag in ev['tags']):\n",
    "                event_time.append([ev['matchId'], ev['matchPeriod'], ev['eventSec']])\n",
    "\n",
    "    df_event = pd.DataFrame(event_time, columns=['matchId', 'matchPeriod', 'eventSec'])\n",
    "\n",
    "    df_event['eventSec'] = df_event['eventSec'] / 60  # Convert eventSec to minutes\n",
    "\n",
    "    # Create bins\n",
    "    bins = [0, 5, 10, 15, 20, 25, 30, 35, 40, 45, 50, 55, 60, 65, 70, 75, 80, 85, 90, np.inf]\n",
    "    labels = ['0-5', '5-10', '10-15', '15-20', '20-25', '25-30', '30-35', '35-40', '40-45', '>45',\n",
    "              '45-50', '50-55', '55-60', '60-65', '65-70', '70-75', '75-80', '80-85', '85-90', '>90']\n",
    "    df_event['binned'] = pd.cut(df_event['eventSec'], bins=bins, labels=False)\n",
    "    df_event['binned'] = df_event['binned'].apply(lambda x: labels[x])\n",
    "\n",
    "    # Exclude specific bins\n",
    "    df_event = df_event[~df_event['binned'].isin(['45-50', '5-10'])]\n",
    "\n",
    "    # Count events in each bin for only 1H and 2H\n",
    "    df_counts = df_event[df_event['matchPeriod'].isin(['1H', '2H'])].groupby(['matchPeriod', 'binned']).size().reset_index(name='count')\n",
    "\n",
    "    # Create Altair Chart\n",
    "    chart = alt.Chart(df_counts).mark_bar().encode(\n",
    "        x=alt.X('binned:N', title='Match Time (min)', axis=alt.Axis(labels=True, labelAngle=90)),\n",
    "        y=alt.Y('count:Q', title='%s (n)' % event_name),\n",
    "        color=alt.Color('matchPeriod:N', title='Half', scale=alt.Scale(range=['#1f77b4', '#2ca02c'])),\n",
    "        column=alt.Column('matchPeriod:N', title='Half', header=alt.Header(labelOrient='top'))\n",
    "    ).properties(\n",
    "        width=150,  # Adjust width here\n",
    "        height=400\n",
    "    ).configure_axis(\n",
    "        labelFontSize=12,\n",
    "        titleFontSize=15\n",
    "    ).configure_header(\n",
    "        labelFontSize=15\n",
    "    )\n",
    "\n",
    "    return chart\n"
   ]
  },
  {
   "cell_type": "code",
   "execution_count": 81,
   "metadata": {},
   "outputs": [
    {
     "name": "stderr",
     "output_type": "stream",
     "text": [
      "/Users/aloedeguia/opt/anaconda3/envs/si649/lib/python3.12/site-packages/altair/utils/deprecation.py:65: AltairDeprecationWarning: 'add_selection' is deprecated. Use 'add_params' instead.\n",
      "  warnings.warn(message, AltairDeprecationWarning, stacklevel=1)\n"
     ]
    },
    {
     "data": {
      "application/vnd.vega.v5+json": {
       "$schema": "https://vega.github.io/schema/vega/v5.json",
       "background": "white",
       "config": {
        "axis": {
         "labelFontSize": 12,
         "titleFontSize": 15
        },
        "legend": {
         "labelFontSize": 12,
         "titleFontSize": 15
        },
        "style": {
         "group-title": {
          "fontSize": 20
         }
        }
       },
       "data": [
        {
         "name": "_server_source_0",
         "values": [
          {
           "Nation": "England",
           "binned": "0-5",
           "count": 73,
           "matchPeriod": "1H"
          },
          {
           "Nation": "European_Championship",
           "binned": "0-5",
           "count": 8,
           "matchPeriod": "1H"
          },
          {
           "Nation": "France",
           "binned": "0-5",
           "count": 95,
           "matchPeriod": "1H"
          },
          {
           "Nation": "Germany",
           "binned": "0-5",
           "count": 65,
           "matchPeriod": "1H"
          },
          {
           "Nation": "Italy",
           "binned": "0-5",
           "count": 72,
           "matchPeriod": "1H"
          },
          {
           "Nation": "Spain",
           "binned": "0-5",
           "count": 65,
           "matchPeriod": "1H"
          },
          {
           "Nation": "World_Cup",
           "binned": "0-5",
           "count": 14,
           "matchPeriod": "1H"
          },
          {
           "Nation": "England",
           "binned": "10-15",
           "count": 81,
           "matchPeriod": "1H"
          },
          {
           "Nation": "European_Championship",
           "binned": "10-15",
           "count": 6,
           "matchPeriod": "1H"
          },
          {
           "Nation": "France",
           "binned": "10-15",
           "count": 96,
           "matchPeriod": "1H"
          },
          {
           "Nation": "Germany",
           "binned": "10-15",
           "count": 73,
           "matchPeriod": "1H"
          },
          {
           "Nation": "Italy",
           "binned": "10-15",
           "count": 92,
           "matchPeriod": "1H"
          },
          {
           "Nation": "Spain",
           "binned": "10-15",
           "count": 86,
           "matchPeriod": "1H"
          },
          {
           "Nation": "World_Cup",
           "binned": "10-15",
           "count": 14,
           "matchPeriod": "1H"
          },
          {
           "Nation": "England",
           "binned": "15-20",
           "count": 98,
           "matchPeriod": "1H"
          },
          {
           "Nation": "European_Championship",
           "binned": "15-20",
           "count": 14,
           "matchPeriod": "1H"
          },
          {
           "Nation": "France",
           "binned": "15-20",
           "count": 102,
           "matchPeriod": "1H"
          },
          {
           "Nation": "Germany",
           "binned": "15-20",
           "count": 99,
           "matchPeriod": "1H"
          },
          {
           "Nation": "Italy",
           "binned": "15-20",
           "count": 85,
           "matchPeriod": "1H"
          },
          {
           "Nation": "Spain",
           "binned": "15-20",
           "count": 92,
           "matchPeriod": "1H"
          },
          {
           "Nation": "World_Cup",
           "binned": "15-20",
           "count": 13,
           "matchPeriod": "1H"
          },
          {
           "Nation": "England",
           "binned": "20-25",
           "count": 94,
           "matchPeriod": "1H"
          },
          {
           "Nation": "France",
           "binned": "20-25",
           "count": 105,
           "matchPeriod": "1H"
          },
          {
           "Nation": "Germany",
           "binned": "20-25",
           "count": 109,
           "matchPeriod": "1H"
          },
          {
           "Nation": "Italy",
           "binned": "20-25",
           "count": 119,
           "matchPeriod": "1H"
          },
          {
           "Nation": "Spain",
           "binned": "20-25",
           "count": 105,
           "matchPeriod": "1H"
          },
          {
           "Nation": "World_Cup",
           "binned": "20-25",
           "count": 11,
           "matchPeriod": "1H"
          },
          {
           "Nation": "England",
           "binned": "25-30",
           "count": 95,
           "matchPeriod": "1H"
          },
          {
           "Nation": "European_Championship",
           "binned": "25-30",
           "count": 3,
           "matchPeriod": "1H"
          },
          {
           "Nation": "France",
           "binned": "25-30",
           "count": 99,
           "matchPeriod": "1H"
          },
          {
           "Nation": "Germany",
           "binned": "25-30",
           "count": 96,
           "matchPeriod": "1H"
          },
          {
           "Nation": "Italy",
           "binned": "25-30",
           "count": 112,
           "matchPeriod": "1H"
          },
          {
           "Nation": "Spain",
           "binned": "25-30",
           "count": 111,
           "matchPeriod": "1H"
          },
          {
           "Nation": "World_Cup",
           "binned": "25-30",
           "count": 6,
           "matchPeriod": "1H"
          },
          {
           "Nation": "England",
           "binned": "30-35",
           "count": 81,
           "matchPeriod": "1H"
          },
          {
           "Nation": "European_Championship",
           "binned": "30-35",
           "count": 13,
           "matchPeriod": "1H"
          },
          {
           "Nation": "France",
           "binned": "30-35",
           "count": 94,
           "matchPeriod": "1H"
          },
          {
           "Nation": "Germany",
           "binned": "30-35",
           "count": 62,
           "matchPeriod": "1H"
          },
          {
           "Nation": "Italy",
           "binned": "30-35",
           "count": 110,
           "matchPeriod": "1H"
          },
          {
           "Nation": "Spain",
           "binned": "30-35",
           "count": 117,
           "matchPeriod": "1H"
          },
          {
           "Nation": "World_Cup",
           "binned": "30-35",
           "count": 18,
           "matchPeriod": "1H"
          },
          {
           "Nation": "England",
           "binned": "35-40",
           "count": 95,
           "matchPeriod": "1H"
          },
          {
           "Nation": "European_Championship",
           "binned": "35-40",
           "count": 8,
           "matchPeriod": "1H"
          },
          {
           "Nation": "France",
           "binned": "35-40",
           "count": 86,
           "matchPeriod": "1H"
          },
          {
           "Nation": "Germany",
           "binned": "35-40",
           "count": 79,
           "matchPeriod": "1H"
          },
          {
           "Nation": "Italy",
           "binned": "35-40",
           "count": 82,
           "matchPeriod": "1H"
          },
          {
           "Nation": "Spain",
           "binned": "35-40",
           "count": 103,
           "matchPeriod": "1H"
          },
          {
           "Nation": "World_Cup",
           "binned": "35-40",
           "count": 19,
           "matchPeriod": "1H"
          },
          {
           "Nation": "England",
           "binned": "40-45",
           "count": 92,
           "matchPeriod": "1H"
          },
          {
           "Nation": "European_Championship",
           "binned": "40-45",
           "count": 18,
           "matchPeriod": "1H"
          },
          {
           "Nation": "France",
           "binned": "40-45",
           "count": 116,
           "matchPeriod": "1H"
          },
          {
           "Nation": "Germany",
           "binned": "40-45",
           "count": 82,
           "matchPeriod": "1H"
          },
          {
           "Nation": "Italy",
           "binned": "40-45",
           "count": 85,
           "matchPeriod": "1H"
          },
          {
           "Nation": "Spain",
           "binned": "40-45",
           "count": 80,
           "matchPeriod": "1H"
          },
          {
           "Nation": "World_Cup",
           "binned": "40-45",
           "count": 10,
           "matchPeriod": "1H"
          },
          {
           "Nation": "England",
           "binned": ">45",
           "count": 49,
           "matchPeriod": "1H"
          },
          {
           "Nation": "European_Championship",
           "binned": ">45",
           "count": 2,
           "matchPeriod": "1H"
          },
          {
           "Nation": "France",
           "binned": ">45",
           "count": 34,
           "matchPeriod": "1H"
          },
          {
           "Nation": "Germany",
           "binned": ">45",
           "count": 24,
           "matchPeriod": "1H"
          },
          {
           "Nation": "Italy",
           "binned": ">45",
           "count": 36,
           "matchPeriod": "1H"
          },
          {
           "Nation": "Spain",
           "binned": ">45",
           "count": 16,
           "matchPeriod": "1H"
          },
          {
           "Nation": "World_Cup",
           "binned": ">45",
           "count": 4,
           "matchPeriod": "1H"
          },
          {
           "Nation": "England",
           "binned": "0-5",
           "count": 111,
           "matchPeriod": "2H"
          },
          {
           "Nation": "European_Championship",
           "binned": "0-5",
           "count": 15,
           "matchPeriod": "2H"
          },
          {
           "Nation": "France",
           "binned": "0-5",
           "count": 98,
           "matchPeriod": "2H"
          },
          {
           "Nation": "Germany",
           "binned": "0-5",
           "count": 76,
           "matchPeriod": "2H"
          },
          {
           "Nation": "Italy",
           "binned": "0-5",
           "count": 94,
           "matchPeriod": "2H"
          },
          {
           "Nation": "Spain",
           "binned": "0-5",
           "count": 93,
           "matchPeriod": "2H"
          },
          {
           "Nation": "World_Cup",
           "binned": "0-5",
           "count": 17,
           "matchPeriod": "2H"
          },
          {
           "Nation": "England",
           "binned": "10-15",
           "count": 108,
           "matchPeriod": "2H"
          },
          {
           "Nation": "European_Championship",
           "binned": "10-15",
           "count": 16,
           "matchPeriod": "2H"
          },
          {
           "Nation": "France",
           "binned": "10-15",
           "count": 105,
           "matchPeriod": "2H"
          },
          {
           "Nation": "Germany",
           "binned": "10-15",
           "count": 93,
           "matchPeriod": "2H"
          },
          {
           "Nation": "Italy",
           "binned": "10-15",
           "count": 122,
           "matchPeriod": "2H"
          },
          {
           "Nation": "Spain",
           "binned": "10-15",
           "count": 118,
           "matchPeriod": "2H"
          },
          {
           "Nation": "World_Cup",
           "binned": "10-15",
           "count": 23,
           "matchPeriod": "2H"
          },
          {
           "Nation": "England",
           "binned": "15-20",
           "count": 123,
           "matchPeriod": "2H"
          },
          {
           "Nation": "European_Championship",
           "binned": "15-20",
           "count": 18,
           "matchPeriod": "2H"
          },
          {
           "Nation": "France",
           "binned": "15-20",
           "count": 92,
           "matchPeriod": "2H"
          },
          {
           "Nation": "Germany",
           "binned": "15-20",
           "count": 104,
           "matchPeriod": "2H"
          },
          {
           "Nation": "Italy",
           "binned": "15-20",
           "count": 109,
           "matchPeriod": "2H"
          },
          {
           "Nation": "Spain",
           "binned": "15-20",
           "count": 116,
           "matchPeriod": "2H"
          },
          {
           "Nation": "World_Cup",
           "binned": "15-20",
           "count": 19,
           "matchPeriod": "2H"
          },
          {
           "Nation": "England",
           "binned": "20-25",
           "count": 118,
           "matchPeriod": "2H"
          },
          {
           "Nation": "European_Championship",
           "binned": "20-25",
           "count": 4,
           "matchPeriod": "2H"
          },
          {
           "Nation": "France",
           "binned": "20-25",
           "count": 111,
           "matchPeriod": "2H"
          },
          {
           "Nation": "Germany",
           "binned": "20-25",
           "count": 88,
           "matchPeriod": "2H"
          },
          {
           "Nation": "Italy",
           "binned": "20-25",
           "count": 115,
           "matchPeriod": "2H"
          },
          {
           "Nation": "Spain",
           "binned": "20-25",
           "count": 110,
           "matchPeriod": "2H"
          },
          {
           "Nation": "World_Cup",
           "binned": "20-25",
           "count": 20,
           "matchPeriod": "2H"
          },
          {
           "Nation": "England",
           "binned": "25-30",
           "count": 130,
           "matchPeriod": "2H"
          },
          {
           "Nation": "European_Championship",
           "binned": "25-30",
           "count": 6,
           "matchPeriod": "2H"
          },
          {
           "Nation": "France",
           "binned": "25-30",
           "count": 130,
           "matchPeriod": "2H"
          },
          {
           "Nation": "Germany",
           "binned": "25-30",
           "count": 106,
           "matchPeriod": "2H"
          },
          {
           "Nation": "Italy",
           "binned": "25-30",
           "count": 139,
           "matchPeriod": "2H"
          },
          {
           "Nation": "Spain",
           "binned": "25-30",
           "count": 108,
           "matchPeriod": "2H"
          },
          {
           "Nation": "World_Cup",
           "binned": "25-30",
           "count": 21,
           "matchPeriod": "2H"
          },
          {
           "Nation": "England",
           "binned": "30-35",
           "count": 117,
           "matchPeriod": "2H"
          },
          {
           "Nation": "European_Championship",
           "binned": "30-35",
           "count": 10,
           "matchPeriod": "2H"
          },
          {
           "Nation": "France",
           "binned": "30-35",
           "count": 108,
           "matchPeriod": "2H"
          },
          {
           "Nation": "Germany",
           "binned": "30-35",
           "count": 107,
           "matchPeriod": "2H"
          },
          {
           "Nation": "Italy",
           "binned": "30-35",
           "count": 102,
           "matchPeriod": "2H"
          },
          {
           "Nation": "Spain",
           "binned": "30-35",
           "count": 134,
           "matchPeriod": "2H"
          },
          {
           "Nation": "World_Cup",
           "binned": "30-35",
           "count": 11,
           "matchPeriod": "2H"
          },
          {
           "Nation": "England",
           "binned": "35-40",
           "count": 113,
           "matchPeriod": "2H"
          },
          {
           "Nation": "European_Championship",
           "binned": "35-40",
           "count": 12,
           "matchPeriod": "2H"
          },
          {
           "Nation": "France",
           "binned": "35-40",
           "count": 110,
           "matchPeriod": "2H"
          },
          {
           "Nation": "Germany",
           "binned": "35-40",
           "count": 75,
           "matchPeriod": "2H"
          },
          {
           "Nation": "Italy",
           "binned": "35-40",
           "count": 88,
           "matchPeriod": "2H"
          },
          {
           "Nation": "Spain",
           "binned": "35-40",
           "count": 134,
           "matchPeriod": "2H"
          },
          {
           "Nation": "World_Cup",
           "binned": "35-40",
           "count": 4,
           "matchPeriod": "2H"
          },
          {
           "Nation": "England",
           "binned": "40-45",
           "count": 124,
           "matchPeriod": "2H"
          },
          {
           "Nation": "European_Championship",
           "binned": "40-45",
           "count": 13,
           "matchPeriod": "2H"
          },
          {
           "Nation": "France",
           "binned": "40-45",
           "count": 130,
           "matchPeriod": "2H"
          },
          {
           "Nation": "Germany",
           "binned": "40-45",
           "count": 88,
           "matchPeriod": "2H"
          },
          {
           "Nation": "Italy",
           "binned": "40-45",
           "count": 123,
           "matchPeriod": "2H"
          },
          {
           "Nation": "Spain",
           "binned": "40-45",
           "count": 132,
           "matchPeriod": "2H"
          },
          {
           "Nation": "World_Cup",
           "binned": "40-45",
           "count": 20,
           "matchPeriod": "2H"
          },
          {
           "Nation": "England",
           "binned": ">45",
           "count": 86,
           "matchPeriod": "2H"
          },
          {
           "Nation": "European_Championship",
           "binned": ">45",
           "count": 16,
           "matchPeriod": "2H"
          },
          {
           "Nation": "France",
           "binned": ">45",
           "count": 111,
           "matchPeriod": "2H"
          },
          {
           "Nation": "Germany",
           "binned": ">45",
           "count": 86,
           "matchPeriod": "2H"
          },
          {
           "Nation": "Italy",
           "binned": ">45",
           "count": 105,
           "matchPeriod": "2H"
          },
          {
           "Nation": "Spain",
           "binned": ">45",
           "count": 90,
           "matchPeriod": "2H"
          },
          {
           "Nation": "World_Cup",
           "binned": ">45",
           "count": 32,
           "matchPeriod": "2H"
          }
         ]
        },
        {
         "name": "param_27_store",
         "values": [
          {
           "fields": [
            {
             "field": "Nation",
             "type": "E"
            }
           ],
           "unit": "child + '__facet_column_' + (facet[\"matchPeriod\"])",
           "values": [
            "Italy"
           ]
          }
         ]
        },
        {
         "name": "source_0",
         "source": "_server_source_0",
         "transform": [
          {
           "expr": "!length(data(\"param_27_store\")) || vlSelectionTest(\"param_27_store\", datum)",
           "type": "filter"
          },
          {
           "as": [
            "count_start",
            "count_end"
           ],
           "field": "count",
           "groupby": [
            "binned",
            "matchPeriod"
           ],
           "offset": "zero",
           "sort": {
            "field": [
             "matchPeriod"
            ],
            "order": [
             "descending"
            ]
           },
           "type": "stack"
          },
          {
           "expr": "isValid(datum[\"count\"]) && isFinite(+datum[\"count\"])",
           "type": "filter"
          }
         ]
        },
        {
         "name": "column_domain",
         "source": "source_0",
         "transform": [
          {
           "groupby": [
            "matchPeriod"
           ],
           "type": "aggregate"
          }
         ]
        },
        {
         "name": "source_0_x_domain_binned",
         "source": "source_0",
         "transform": [
          {
           "as": [],
           "fields": [],
           "groupby": [
            "binned"
           ],
           "ops": [],
           "type": "aggregate"
          },
          {
           "as": "sort_field",
           "expr": "datum['binned']",
           "type": "formula"
          },
          {
           "fields": [
            "binned"
           ],
           "type": "project"
          }
         ]
        },
        {
         "name": "source_0_color_domain_matchPeriod",
         "source": "source_0",
         "transform": [
          {
           "as": [],
           "fields": [],
           "groupby": [
            "matchPeriod"
           ],
           "ops": [],
           "type": "aggregate"
          },
          {
           "as": "sort_field",
           "expr": "datum['matchPeriod']",
           "type": "formula"
          },
          {
           "fields": [
            "matchPeriod"
           ],
           "type": "project"
          }
         ]
        }
       ],
       "layout": {
        "align": "all",
        "bounds": "full",
        "columns": {
         "signal": "length(data('column_domain'))"
        },
        "offset": {
         "columnTitle": 10
        },
        "padding": 20
       },
       "legends": [
        {
         "encode": {
          "symbols": {
           "update": {
            "opacity": {
             "value": 1
            }
           }
          }
         },
         "fill": "color",
         "symbolType": "square",
         "title": "Half"
        }
       ],
       "marks": [
        {
         "name": "column-title",
         "role": "column-title",
         "title": {
          "offset": 10,
          "style": "guide-title",
          "text": "Half"
         },
         "type": "group"
        },
        {
         "axes": [
          {
           "grid": false,
           "labelOverlap": true,
           "orient": "left",
           "scale": "y",
           "tickCount": {
            "signal": "ceil(child_height/40)"
           },
           "title": "Goal (n)",
           "zindex": 0
          }
         ],
         "encode": {
          "update": {
           "height": {
            "signal": "child_height"
           }
          }
         },
         "name": "row_header",
         "role": "row-header",
         "type": "group"
        },
        {
         "encode": {
          "update": {
           "width": {
            "signal": "child_width"
           }
          }
         },
         "from": {
          "data": "column_domain"
         },
         "name": "column_header",
         "role": "column-header",
         "sort": {
          "field": "datum[\"matchPeriod\"]",
          "order": "ascending"
         },
         "title": {
          "fontSize": 15,
          "frame": "group",
          "offset": 10,
          "orient": "top",
          "style": "guide-label",
          "text": {
           "signal": "isValid(parent[\"matchPeriod\"]) ? parent[\"matchPeriod\"] : \"\"+parent[\"matchPeriod\"]"
          }
         },
         "type": "group"
        },
        {
         "axes": [
          {
           "grid": false,
           "labelAlign": "left",
           "labelAngle": 90,
           "labelBaseline": "middle",
           "labels": true,
           "orient": "bottom",
           "scale": "x",
           "title": "Match Time (min)",
           "zindex": 0
          }
         ],
         "encode": {
          "update": {
           "width": {
            "signal": "child_width"
           }
          }
         },
         "from": {
          "data": "column_domain"
         },
         "name": "column_footer",
         "role": "column-footer",
         "sort": {
          "field": "datum[\"matchPeriod\"]",
          "order": "ascending"
         },
         "type": "group"
        },
        {
         "axes": [
          {
           "aria": false,
           "domain": false,
           "grid": true,
           "gridScale": "x",
           "labels": false,
           "maxExtent": 0,
           "minExtent": 0,
           "orient": "left",
           "scale": "y",
           "tickCount": {
            "signal": "ceil(child_height/40)"
           },
           "ticks": false,
           "zindex": 0
          }
         ],
         "encode": {
          "update": {
           "height": {
            "signal": "child_height"
           },
           "width": {
            "signal": "child_width"
           }
          }
         },
         "from": {
          "facet": {
           "data": "source_0",
           "groupby": [
            "matchPeriod"
           ],
           "name": "facet"
          }
         },
         "marks": [
          {
           "encode": {
            "update": {
             "fill": {
              "field": "matchPeriod",
              "scale": "color"
             },
             "opacity": [
              {
               "test": "!length(data(\"param_27_store\")) || vlSelectionTest(\"param_27_store\", datum)",
               "value": 1
              },
              {
               "value": 0.2
              }
             ],
             "width": {
              "signal": "max(0.25, bandwidth('x'))"
             },
             "x": {
              "field": "binned",
              "scale": "x"
             },
             "y": {
              "field": "count_end",
              "scale": "y"
             },
             "y2": {
              "field": "count_start",
              "scale": "y"
             }
            }
           },
           "from": {
            "data": "facet"
           },
           "interactive": true,
           "name": "child_marks",
           "style": [
            "bar"
           ],
           "type": "rect"
          }
         ],
         "name": "cell",
         "signals": [
          {
           "name": "facet",
           "on": [
            {
             "events": [
              {
               "source": "scope",
               "type": "pointermove"
              }
             ],
             "update": "isTuple(facet) ? facet : group(\"cell\").datum"
            }
           ],
           "value": {}
          },
          {
           "name": "param_27_tuple",
           "update": "param_27_Nation !== null ? {fields: param_27_tuple_fields, values: [param_27_Nation]} : null"
          },
          {
           "name": "param_27_tuple_fields",
           "value": [
            {
             "field": "Nation",
             "type": "E"
            }
           ]
          },
          {
           "name": "param_27_modify",
           "on": [
            {
             "events": {
              "signal": "param_27_tuple"
             },
             "update": "modify(\"param_27_store\", param_27_tuple, true)"
            }
           ]
          }
         ],
         "sort": {
          "field": [
           "datum[\"matchPeriod\"]"
          ],
          "order": [
           "ascending"
          ]
         },
         "style": "cell",
         "type": "group"
        }
       ],
       "padding": 5,
       "scales": [
        {
         "domain": {
          "data": "source_0_x_domain_binned",
          "field": "binned",
          "sort": true
         },
         "name": "x",
         "paddingInner": 0.1,
         "paddingOuter": 0.05,
         "range": [
          0,
          {
           "signal": "child_width"
          }
         ],
         "type": "band"
        },
        {
         "domain": [
          0,
          140
         ],
         "name": "y",
         "range": [
          {
           "signal": "child_height"
          },
          0
         ],
         "type": "linear",
         "zero": true
        },
        {
         "domain": {
          "data": "source_0_color_domain_matchPeriod",
          "field": "matchPeriod",
          "sort": true
         },
         "name": "color",
         "range": [
          "#1f77b4",
          "#2ca02c"
         ],
         "type": "ordinal"
        }
       ],
       "signals": [
        {
         "name": "child_width",
         "value": 150
        },
        {
         "name": "child_height",
         "value": 400
        },
        {
         "name": "unit",
         "on": [
          {
           "events": "pointermove",
           "update": "isTuple(group()) ? group() : unit"
          }
         ],
         "value": {}
        },
        {
         "bind": {
          "input": "select",
          "options": [
           "Italy",
           "England",
           "Germany",
           "France",
           "Spain",
           "European_Championship",
           "World_Cup"
          ]
         },
         "init": "\"Italy\"",
         "name": "param_27_Nation",
         "on": [
          {
           "events": [
            {
             "source": "scope",
             "type": "keyup"
            }
           ],
           "update": "datum && item().mark.marktype !== 'group' ? datum[\"Nation\"] : null"
          },
          {
           "events": [
            {
             "source": "view",
             "type": "false"
            }
           ],
           "update": "null"
          }
         ]
        },
        {
         "name": "param_27",
         "update": "vlSelectionResolve(\"param_27_store\", \"union\", true, true)"
        }
       ]
      },
      "text/plain": [
       "<VegaLite 5 object>\n",
       "\n",
       "If you see this message, it means the renderer has not been properly enabled\n",
       "for the frontend that you are using. For more information, see\n",
       "https://altair-viz.github.io/user_guide/display_frontends.html#troubleshooting\n"
      ]
     },
     "execution_count": 81,
     "metadata": {},
     "output_type": "execute_result"
    }
   ],
   "source": [
    "goals = in_match_evolution()\n",
    "goals.configure_legend(\n",
    "    titleFontSize=15,\n",
    "    labelFontSize=12\n",
    ").configure_title(\n",
    "    fontSize=20\n",
    ")\n"
   ]
  },
  {
   "cell_type": "code",
   "execution_count": 39,
   "metadata": {},
   "outputs": [
    {
     "data": {
      "application/vnd.vega.v5+json": {
       "$schema": "https://vega.github.io/schema/vega/v5.json",
       "background": "white",
       "config": {
        "axis": {
         "labelFontSize": 12,
         "titleFontSize": 15
        },
        "legend": {
         "labelFontSize": 12,
         "titleFontSize": 15
        },
        "style": {
         "group-title": {
          "fontSize": 20
         }
        }
       },
       "data": [
        {
         "name": "source_0",
         "values": [
          {
           "binned": "0-5",
           "count": 97,
           "count_end": 97,
           "count_start": 0,
           "matchPeriod": "1H"
          },
          {
           "binned": "10-15",
           "count": 211,
           "count_end": 211,
           "count_start": 0,
           "matchPeriod": "1H"
          },
          {
           "binned": "15-20",
           "count": 213,
           "count_end": 213,
           "count_start": 0,
           "matchPeriod": "1H"
          },
          {
           "binned": "20-25",
           "count": 290,
           "count_end": 290,
           "count_start": 0,
           "matchPeriod": "1H"
          },
          {
           "binned": "25-30",
           "count": 338,
           "count_end": 338,
           "count_start": 0,
           "matchPeriod": "1H"
          },
          {
           "binned": "30-35",
           "count": 375,
           "count_end": 375,
           "count_start": 0,
           "matchPeriod": "1H"
          },
          {
           "binned": "35-40",
           "count": 389,
           "count_end": 389,
           "count_start": 0,
           "matchPeriod": "1H"
          },
          {
           "binned": "40-45",
           "count": 441,
           "count_end": 441,
           "count_start": 0,
           "matchPeriod": "1H"
          },
          {
           "binned": ">45",
           "count": 110,
           "count_end": 110,
           "count_start": 0,
           "matchPeriod": "1H"
          },
          {
           "binned": "0-5",
           "count": 302,
           "count_end": 302,
           "count_start": 0,
           "matchPeriod": "2H"
          },
          {
           "binned": "10-15",
           "count": 476,
           "count_end": 476,
           "count_start": 0,
           "matchPeriod": "2H"
          },
          {
           "binned": "15-20",
           "count": 501,
           "count_end": 501,
           "count_start": 0,
           "matchPeriod": "2H"
          },
          {
           "binned": "20-25",
           "count": 442,
           "count_end": 442,
           "count_start": 0,
           "matchPeriod": "2H"
          },
          {
           "binned": "25-30",
           "count": 451,
           "count_end": 451,
           "count_start": 0,
           "matchPeriod": "2H"
          },
          {
           "binned": "30-35",
           "count": 487,
           "count_end": 487,
           "count_start": 0,
           "matchPeriod": "2H"
          },
          {
           "binned": "35-40",
           "count": 526,
           "count_end": 526,
           "count_start": 0,
           "matchPeriod": "2H"
          },
          {
           "binned": "40-45",
           "count": 604,
           "count_end": 604,
           "count_start": 0,
           "matchPeriod": "2H"
          },
          {
           "binned": ">45",
           "count": 558,
           "count_end": 558,
           "count_start": 0,
           "matchPeriod": "2H"
          }
         ]
        },
        {
         "name": "column_domain",
         "values": [
          {
           "count": 9,
           "matchPeriod": "1H"
          },
          {
           "count": 9,
           "matchPeriod": "2H"
          }
         ]
        },
        {
         "name": "source_0_x_domain_binned",
         "values": [
          {
           "binned": "0-5"
          },
          {
           "binned": "10-15"
          },
          {
           "binned": "15-20"
          },
          {
           "binned": "20-25"
          },
          {
           "binned": "25-30"
          },
          {
           "binned": "30-35"
          },
          {
           "binned": "35-40"
          },
          {
           "binned": "40-45"
          },
          {
           "binned": ">45"
          }
         ]
        },
        {
         "name": "source_0_color_domain_matchPeriod",
         "values": [
          {
           "matchPeriod": "1H"
          },
          {
           "matchPeriod": "2H"
          }
         ]
        }
       ],
       "layout": {
        "align": "all",
        "bounds": "full",
        "columns": {
         "signal": "length(data('column_domain'))"
        },
        "offset": {
         "columnTitle": 10
        },
        "padding": 20
       },
       "legends": [
        {
         "fill": "color",
         "symbolType": "square",
         "title": "Half"
        }
       ],
       "marks": [
        {
         "name": "column-title",
         "role": "column-title",
         "title": {
          "offset": 10,
          "style": "guide-title",
          "text": "Half"
         },
         "type": "group"
        },
        {
         "axes": [
          {
           "grid": false,
           "labelOverlap": true,
           "orient": "left",
           "scale": "y",
           "tickCount": {
            "signal": "ceil(child_height/40)"
           },
           "title": "Yellow Card (n)",
           "zindex": 0
          }
         ],
         "encode": {
          "update": {
           "height": {
            "signal": "child_height"
           }
          }
         },
         "name": "row_header",
         "role": "row-header",
         "type": "group"
        },
        {
         "encode": {
          "update": {
           "width": {
            "signal": "child_width"
           }
          }
         },
         "from": {
          "data": "column_domain"
         },
         "name": "column_header",
         "role": "column-header",
         "sort": {
          "field": "datum[\"matchPeriod\"]",
          "order": "ascending"
         },
         "title": {
          "fontSize": 15,
          "frame": "group",
          "offset": 10,
          "orient": "top",
          "style": "guide-label",
          "text": {
           "signal": "isValid(parent[\"matchPeriod\"]) ? parent[\"matchPeriod\"] : \"\"+parent[\"matchPeriod\"]"
          }
         },
         "type": "group"
        },
        {
         "axes": [
          {
           "grid": false,
           "labelAlign": "left",
           "labelAngle": 90,
           "labelBaseline": "middle",
           "labels": true,
           "orient": "bottom",
           "scale": "x",
           "title": "Match Time (min)",
           "zindex": 0
          }
         ],
         "encode": {
          "update": {
           "width": {
            "signal": "child_width"
           }
          }
         },
         "from": {
          "data": "column_domain"
         },
         "name": "column_footer",
         "role": "column-footer",
         "sort": {
          "field": "datum[\"matchPeriod\"]",
          "order": "ascending"
         },
         "type": "group"
        },
        {
         "axes": [
          {
           "aria": false,
           "domain": false,
           "grid": true,
           "gridScale": "x",
           "labels": false,
           "maxExtent": 0,
           "minExtent": 0,
           "orient": "left",
           "scale": "y",
           "tickCount": {
            "signal": "ceil(child_height/40)"
           },
           "ticks": false,
           "zindex": 0
          }
         ],
         "encode": {
          "update": {
           "height": {
            "signal": "child_height"
           },
           "width": {
            "signal": "child_width"
           }
          }
         },
         "from": {
          "facet": {
           "data": "source_0",
           "groupby": [
            "matchPeriod"
           ],
           "name": "facet"
          }
         },
         "marks": [
          {
           "encode": {
            "update": {
             "fill": {
              "field": "matchPeriod",
              "scale": "color"
             },
             "width": {
              "signal": "max(0.25, bandwidth('x'))"
             },
             "x": {
              "field": "binned",
              "scale": "x"
             },
             "y": {
              "field": "count_end",
              "scale": "y"
             },
             "y2": {
              "field": "count_start",
              "scale": "y"
             }
            }
           },
           "from": {
            "data": "facet"
           },
           "name": "child_marks",
           "style": [
            "bar"
           ],
           "type": "rect"
          }
         ],
         "name": "cell",
         "sort": {
          "field": [
           "datum[\"matchPeriod\"]"
          ],
          "order": [
           "ascending"
          ]
         },
         "style": "cell",
         "type": "group"
        }
       ],
       "padding": 5,
       "scales": [
        {
         "domain": {
          "data": "source_0_x_domain_binned",
          "field": "binned",
          "sort": true
         },
         "name": "x",
         "paddingInner": 0.1,
         "paddingOuter": 0.05,
         "range": [
          0,
          {
           "signal": "child_width"
          }
         ],
         "type": "band"
        },
        {
         "domain": {
          "data": "source_0",
          "fields": [
           "count_start",
           "count_end"
          ]
         },
         "name": "y",
         "nice": true,
         "range": [
          {
           "signal": "child_height"
          },
          0
         ],
         "type": "linear",
         "zero": true
        },
        {
         "domain": {
          "data": "source_0_color_domain_matchPeriod",
          "field": "matchPeriod",
          "sort": true
         },
         "name": "color",
         "range": [
          "#1f77b4",
          "#2ca02c"
         ],
         "type": "ordinal"
        }
       ],
       "signals": [
        {
         "name": "child_width",
         "value": 150
        },
        {
         "name": "child_height",
         "value": 400
        }
       ]
      },
      "text/plain": [
       "<VegaLite 5 object>\n",
       "\n",
       "If you see this message, it means the renderer has not been properly enabled\n",
       "for the frontend that you are using. For more information, see\n",
       "https://altair-viz.github.io/user_guide/display_frontends.html#troubleshooting\n"
      ]
     },
     "execution_count": 39,
     "metadata": {},
     "output_type": "execute_result"
    }
   ],
   "source": [
    "yellowcard = in_match_evolution(event_name = 'Yellow Card', event_tag = 1702)\n",
    "yellowcard.configure_legend(\n",
    "    titleFontSize=15,\n",
    "    labelFontSize=12\n",
    ").configure_title(\n",
    "    fontSize=20\n",
    ")"
   ]
  },
  {
   "cell_type": "code",
   "execution_count": 40,
   "metadata": {},
   "outputs": [
    {
     "data": {
      "application/vnd.vega.v5+json": {
       "$schema": "https://vega.github.io/schema/vega/v5.json",
       "background": "white",
       "config": {
        "axis": {
         "labelFontSize": 12,
         "titleFontSize": 15
        },
        "legend": {
         "labelFontSize": 12,
         "titleFontSize": 15
        },
        "style": {
         "group-title": {
          "fontSize": 20
         }
        }
       },
       "data": [
        {
         "name": "source_0",
         "values": [
          {
           "binned": "0-5",
           "count": 3,
           "count_end": 3,
           "count_start": 0,
           "matchPeriod": "1H"
          },
          {
           "binned": "10-15",
           "count": 7,
           "count_end": 7,
           "count_start": 0,
           "matchPeriod": "1H"
          },
          {
           "binned": "20-25",
           "count": 7,
           "count_end": 7,
           "count_start": 0,
           "matchPeriod": "1H"
          },
          {
           "binned": "25-30",
           "count": 7,
           "count_end": 7,
           "count_start": 0,
           "matchPeriod": "1H"
          },
          {
           "binned": "30-35",
           "count": 9,
           "count_end": 9,
           "count_start": 0,
           "matchPeriod": "1H"
          },
          {
           "binned": "35-40",
           "count": 7,
           "count_end": 7,
           "count_start": 0,
           "matchPeriod": "1H"
          },
          {
           "binned": "40-45",
           "count": 5,
           "count_end": 5,
           "count_start": 0,
           "matchPeriod": "1H"
          },
          {
           "binned": ">45",
           "count": 5,
           "count_end": 5,
           "count_start": 0,
           "matchPeriod": "1H"
          },
          {
           "binned": "0-5",
           "count": 9,
           "count_end": 9,
           "count_start": 0,
           "matchPeriod": "2H"
          },
          {
           "binned": "10-15",
           "count": 6,
           "count_end": 6,
           "count_start": 0,
           "matchPeriod": "2H"
          },
          {
           "binned": "15-20",
           "count": 10,
           "count_end": 10,
           "count_start": 0,
           "matchPeriod": "2H"
          },
          {
           "binned": "20-25",
           "count": 7,
           "count_end": 7,
           "count_start": 0,
           "matchPeriod": "2H"
          },
          {
           "binned": "25-30",
           "count": 7,
           "count_end": 7,
           "count_start": 0,
           "matchPeriod": "2H"
          },
          {
           "binned": "30-35",
           "count": 7,
           "count_end": 7,
           "count_start": 0,
           "matchPeriod": "2H"
          },
          {
           "binned": "35-40",
           "count": 15,
           "count_end": 15,
           "count_start": 0,
           "matchPeriod": "2H"
          },
          {
           "binned": "40-45",
           "count": 16,
           "count_end": 16,
           "count_start": 0,
           "matchPeriod": "2H"
          },
          {
           "binned": ">45",
           "count": 23,
           "count_end": 23,
           "count_start": 0,
           "matchPeriod": "2H"
          }
         ]
        },
        {
         "name": "column_domain",
         "values": [
          {
           "count": 8,
           "matchPeriod": "1H"
          },
          {
           "count": 9,
           "matchPeriod": "2H"
          }
         ]
        },
        {
         "name": "source_0_x_domain_binned",
         "values": [
          {
           "binned": "0-5"
          },
          {
           "binned": "10-15"
          },
          {
           "binned": "20-25"
          },
          {
           "binned": "25-30"
          },
          {
           "binned": "30-35"
          },
          {
           "binned": "35-40"
          },
          {
           "binned": "40-45"
          },
          {
           "binned": ">45"
          },
          {
           "binned": "15-20"
          }
         ]
        },
        {
         "name": "source_0_color_domain_matchPeriod",
         "values": [
          {
           "matchPeriod": "1H"
          },
          {
           "matchPeriod": "2H"
          }
         ]
        }
       ],
       "layout": {
        "align": "all",
        "bounds": "full",
        "columns": {
         "signal": "length(data('column_domain'))"
        },
        "offset": {
         "columnTitle": 10
        },
        "padding": 20
       },
       "legends": [
        {
         "fill": "color",
         "symbolType": "square",
         "title": "Half"
        }
       ],
       "marks": [
        {
         "name": "column-title",
         "role": "column-title",
         "title": {
          "offset": 10,
          "style": "guide-title",
          "text": "Half"
         },
         "type": "group"
        },
        {
         "axes": [
          {
           "grid": false,
           "labelOverlap": true,
           "orient": "left",
           "scale": "y",
           "tickCount": {
            "signal": "ceil(child_height/40)"
           },
           "title": "Red Card (n)",
           "zindex": 0
          }
         ],
         "encode": {
          "update": {
           "height": {
            "signal": "child_height"
           }
          }
         },
         "name": "row_header",
         "role": "row-header",
         "type": "group"
        },
        {
         "encode": {
          "update": {
           "width": {
            "signal": "child_width"
           }
          }
         },
         "from": {
          "data": "column_domain"
         },
         "name": "column_header",
         "role": "column-header",
         "sort": {
          "field": "datum[\"matchPeriod\"]",
          "order": "ascending"
         },
         "title": {
          "fontSize": 15,
          "frame": "group",
          "offset": 10,
          "orient": "top",
          "style": "guide-label",
          "text": {
           "signal": "isValid(parent[\"matchPeriod\"]) ? parent[\"matchPeriod\"] : \"\"+parent[\"matchPeriod\"]"
          }
         },
         "type": "group"
        },
        {
         "axes": [
          {
           "grid": false,
           "labelAlign": "left",
           "labelAngle": 90,
           "labelBaseline": "middle",
           "labels": true,
           "orient": "bottom",
           "scale": "x",
           "title": "Match Time (min)",
           "zindex": 0
          }
         ],
         "encode": {
          "update": {
           "width": {
            "signal": "child_width"
           }
          }
         },
         "from": {
          "data": "column_domain"
         },
         "name": "column_footer",
         "role": "column-footer",
         "sort": {
          "field": "datum[\"matchPeriod\"]",
          "order": "ascending"
         },
         "type": "group"
        },
        {
         "axes": [
          {
           "aria": false,
           "domain": false,
           "grid": true,
           "gridScale": "x",
           "labels": false,
           "maxExtent": 0,
           "minExtent": 0,
           "orient": "left",
           "scale": "y",
           "tickCount": {
            "signal": "ceil(child_height/40)"
           },
           "ticks": false,
           "zindex": 0
          }
         ],
         "encode": {
          "update": {
           "height": {
            "signal": "child_height"
           },
           "width": {
            "signal": "child_width"
           }
          }
         },
         "from": {
          "facet": {
           "data": "source_0",
           "groupby": [
            "matchPeriod"
           ],
           "name": "facet"
          }
         },
         "marks": [
          {
           "encode": {
            "update": {
             "fill": {
              "field": "matchPeriod",
              "scale": "color"
             },
             "width": {
              "signal": "max(0.25, bandwidth('x'))"
             },
             "x": {
              "field": "binned",
              "scale": "x"
             },
             "y": {
              "field": "count_end",
              "scale": "y"
             },
             "y2": {
              "field": "count_start",
              "scale": "y"
             }
            }
           },
           "from": {
            "data": "facet"
           },
           "name": "child_marks",
           "style": [
            "bar"
           ],
           "type": "rect"
          }
         ],
         "name": "cell",
         "sort": {
          "field": [
           "datum[\"matchPeriod\"]"
          ],
          "order": [
           "ascending"
          ]
         },
         "style": "cell",
         "type": "group"
        }
       ],
       "padding": 5,
       "scales": [
        {
         "domain": {
          "data": "source_0_x_domain_binned",
          "field": "binned",
          "sort": true
         },
         "name": "x",
         "paddingInner": 0.1,
         "paddingOuter": 0.05,
         "range": [
          0,
          {
           "signal": "child_width"
          }
         ],
         "type": "band"
        },
        {
         "domain": {
          "data": "source_0",
          "fields": [
           "count_start",
           "count_end"
          ]
         },
         "name": "y",
         "nice": true,
         "range": [
          {
           "signal": "child_height"
          },
          0
         ],
         "type": "linear",
         "zero": true
        },
        {
         "domain": {
          "data": "source_0_color_domain_matchPeriod",
          "field": "matchPeriod",
          "sort": true
         },
         "name": "color",
         "range": [
          "#1f77b4",
          "#2ca02c"
         ],
         "type": "ordinal"
        }
       ],
       "signals": [
        {
         "name": "child_width",
         "value": 150
        },
        {
         "name": "child_height",
         "value": 400
        }
       ]
      },
      "text/plain": [
       "<VegaLite 5 object>\n",
       "\n",
       "If you see this message, it means the renderer has not been properly enabled\n",
       "for the frontend that you are using. For more information, see\n",
       "https://altair-viz.github.io/user_guide/display_frontends.html#troubleshooting\n"
      ]
     },
     "execution_count": 40,
     "metadata": {},
     "output_type": "execute_result"
    }
   ],
   "source": [
    "redcard = in_match_evolution(event_name = 'Red Card', event_tag = 1701)\n",
    "redcard.configure_legend(\n",
    "    titleFontSize=15,\n",
    "    labelFontSize=12\n",
    ").configure_title(\n",
    "    fontSize=20\n",
    ")"
   ]
  },
  {
   "cell_type": "code",
   "execution_count": 67,
   "metadata": {},
   "outputs": [],
   "source": [
    "# Create a dropdown for nation selection\n",
    "select_nation=alt.selection_point(\n",
    "    fields=['Nation'],\n",
    "    value=nations[0],\n",
    "    bind=alt.binding_select(options=nations),\n",
    "    on=\"keyup\", #disable\n",
    "    clear=\"false\")\n"
   ]
  },
  {
   "cell_type": "code",
   "execution_count": 78,
   "metadata": {},
   "outputs": [],
   "source": [
    "select_nation=alt.selection_point(\n",
    "    fields=['Nation'],\n",
    "    value=nations[0],\n",
    "    bind=alt.binding_select(options=nations),\n",
    "    on=\"keyup\", #disable\n",
    "    clear=\"false\")\n",
    "\n",
    "def in_match_evolution(event_name='Goal', event_tag=101):\n",
    "    event_time = []\n",
    "    excluded_tags = ['e1', 'e2', 'p']\n",
    "    for nation in nations:\n",
    "        for ev in events[nation]:\n",
    "            if all(tag['id'] not in excluded_tags for tag in ev['tags']) and any(tag['id'] == event_tag for tag in ev['tags']):\n",
    "                event_time.append([ev['matchId'], ev['matchPeriod'], ev['eventSec'], nation])\n",
    "\n",
    "    df_event = pd.DataFrame(event_time, columns=['matchId', 'matchPeriod', 'eventSec', 'Nation'])\n",
    "\n",
    "    df_event['eventSec'] = df_event['eventSec'] / 60  # Convert eventSec to minutes\n",
    "\n",
    "    # Create bins\n",
    "    bins = [0, 5, 10, 15, 20, 25, 30, 35, 40, 45, 50, 55, 60, 65, 70, 75, 80, 85, 90, np.inf]\n",
    "    labels = ['0-5', '5-10', '10-15', '15-20', '20-25', '25-30', '30-35', '35-40', '40-45', '>45',\n",
    "              '45-50', '50-55', '55-60', '60-65', '65-70', '70-75', '75-80', '80-85', '85-90', '>90']\n",
    "    df_event['binned'] = pd.cut(df_event['eventSec'], bins=bins, labels=False)\n",
    "    df_event['binned'] = df_event['binned'].apply(lambda x: labels[x])\n",
    "\n",
    "    # Exclude specific bins\n",
    "    df_event = df_event[~df_event['binned'].isin(['45-50', '5-10'])]\n",
    "\n",
    "    # Count events in each bin for only 1H and 2H\n",
    "    df_counts = df_event[df_event['matchPeriod'].isin(['1H', '2H'])].groupby(['matchPeriod', 'binned', 'Nation']).size().reset_index(name='count')\n",
    "    # df_counts.sample(10)\n",
    "    # Create Altair Chart\n",
    "    chart = alt.Chart(df_counts).mark_bar().encode(\n",
    "        x=alt.X('binned:N', title='Match Time (min)', axis=alt.Axis(labels=True, labelAngle=90)),\n",
    "        y=alt.Y('count:Q', title='%s (n)' % event_name).scale(domain=(0, 140)),\n",
    "        color=alt.Color('matchPeriod:N', title='Half', scale=alt.Scale(range=['#1f77b4', '#2ca02c'])),\n",
    "        column=alt.Column('matchPeriod:N', title='Half', header=alt.Header(labelOrient='top')),\n",
    "        opacity=alt.condition(select_nation, alt.value(1), alt.value(0.2))\n",
    "    ).properties(\n",
    "        width=150,  # Adjust width here\n",
    "        height=400\n",
    "    ).configure_axis(\n",
    "        labelFontSize=12,\n",
    "        titleFontSize=15\n",
    "    ).configure_header(\n",
    "        labelFontSize=15\n",
    "    ).add_selection(\n",
    "        select_nation\n",
    "    ).transform_filter(\n",
    "        select_nation)\n",
    "    \n",
    "    return chart\n"
   ]
  },
  {
   "cell_type": "code",
   "execution_count": 82,
   "metadata": {},
   "outputs": [
    {
     "name": "stderr",
     "output_type": "stream",
     "text": [
      "/Users/aloedeguia/opt/anaconda3/envs/si649/lib/python3.12/site-packages/altair/utils/deprecation.py:65: AltairDeprecationWarning: 'add_selection' is deprecated. Use 'add_params' instead.\n",
      "  warnings.warn(message, AltairDeprecationWarning, stacklevel=1)\n"
     ]
    },
    {
     "ename": "ValueError",
     "evalue": "Objects with \"config\" attribute cannot be used within HConcatChart. Consider defining the config attribute in the HConcatChart object instead.",
     "output_type": "error",
     "traceback": [
      "\u001b[0;31m---------------------------------------------------------------------------\u001b[0m",
      "\u001b[0;31mValueError\u001b[0m                                Traceback (most recent call last)",
      "Cell \u001b[0;32mIn[82], line 9\u001b[0m\n\u001b[1;32m      1\u001b[0m goals_int \u001b[39m=\u001b[39m in_match_evolution()\n\u001b[1;32m      2\u001b[0m goals_int\u001b[39m.\u001b[39mconfigure_legend(\n\u001b[1;32m      3\u001b[0m     titleFontSize\u001b[39m=\u001b[39m\u001b[39m15\u001b[39m,\n\u001b[1;32m      4\u001b[0m     labelFontSize\u001b[39m=\u001b[39m\u001b[39m12\u001b[39m\n\u001b[1;32m      5\u001b[0m )\u001b[39m.\u001b[39mconfigure_title(\n\u001b[1;32m      6\u001b[0m     fontSize\u001b[39m=\u001b[39m\u001b[39m20\u001b[39m\n\u001b[1;32m      7\u001b[0m )\n\u001b[0;32m----> 9\u001b[0m goals \u001b[39m=\u001b[39m goals_stat \u001b[39m|\u001b[39;49m goals_int\n",
      "File \u001b[0;32m~/opt/anaconda3/envs/si649/lib/python3.12/site-packages/altair/vegalite/v5/api.py:1239\u001b[0m, in \u001b[0;36mTopLevelMixin.__or__\u001b[0;34m(self, other)\u001b[0m\n\u001b[1;32m   1237\u001b[0m \u001b[39mif\u001b[39;00m \u001b[39mnot\u001b[39;00m \u001b[39misinstance\u001b[39m(other, TopLevelMixin):\n\u001b[1;32m   1238\u001b[0m     \u001b[39mraise\u001b[39;00m \u001b[39mValueError\u001b[39;00m(\u001b[39m\"\u001b[39m\u001b[39mOnly Chart objects can be concatenated.\u001b[39m\u001b[39m\"\u001b[39m)\n\u001b[0;32m-> 1239\u001b[0m \u001b[39mreturn\u001b[39;00m hconcat(\u001b[39mself\u001b[39;49m, other)\n",
      "File \u001b[0;32m~/opt/anaconda3/envs/si649/lib/python3.12/site-packages/altair/vegalite/v5/api.py:3470\u001b[0m, in \u001b[0;36mhconcat\u001b[0;34m(*charts, **kwargs)\u001b[0m\n\u001b[1;32m   3468\u001b[0m \u001b[39mdef\u001b[39;00m \u001b[39mhconcat\u001b[39m(\u001b[39m*\u001b[39mcharts, \u001b[39m*\u001b[39m\u001b[39m*\u001b[39mkwargs) \u001b[39m-\u001b[39m\u001b[39m>\u001b[39m HConcatChart:\n\u001b[1;32m   3469\u001b[0m \u001b[39m    \u001b[39m\u001b[39m\"\"\"Concatenate charts horizontally\"\"\"\u001b[39;00m\n\u001b[0;32m-> 3470\u001b[0m     \u001b[39mreturn\u001b[39;00m HConcatChart(hconcat\u001b[39m=\u001b[39;49mcharts, \u001b[39m*\u001b[39;49m\u001b[39m*\u001b[39;49mkwargs)\n",
      "File \u001b[0;32m~/opt/anaconda3/envs/si649/lib/python3.12/site-packages/altair/vegalite/v5/api.py:3381\u001b[0m, in \u001b[0;36mHConcatChart.__init__\u001b[0;34m(self, data, hconcat, **kwargs)\u001b[0m\n\u001b[1;32m   3377\u001b[0m \u001b[39m@utils\u001b[39m\u001b[39m.\u001b[39muse_signature(core\u001b[39m.\u001b[39mTopLevelHConcatSpec)\n\u001b[1;32m   3378\u001b[0m \u001b[39mdef\u001b[39;00m \u001b[39m__init__\u001b[39m(\u001b[39mself\u001b[39m, data\u001b[39m=\u001b[39mUndefined, hconcat\u001b[39m=\u001b[39m(), \u001b[39m*\u001b[39m\u001b[39m*\u001b[39mkwargs):\n\u001b[1;32m   3379\u001b[0m     \u001b[39m# TODO: move common data to top level?\u001b[39;00m\n\u001b[1;32m   3380\u001b[0m     \u001b[39mfor\u001b[39;00m spec \u001b[39min\u001b[39;00m hconcat:\n\u001b[0;32m-> 3381\u001b[0m         _check_if_valid_subspec(spec, \u001b[39m\"\u001b[39;49m\u001b[39mHConcatChart\u001b[39;49m\u001b[39m\"\u001b[39;49m)\n\u001b[1;32m   3382\u001b[0m     \u001b[39msuper\u001b[39m(HConcatChart, \u001b[39mself\u001b[39m)\u001b[39m.\u001b[39m\u001b[39m__init__\u001b[39m(data\u001b[39m=\u001b[39mdata, hconcat\u001b[39m=\u001b[39m\u001b[39mlist\u001b[39m(hconcat), \u001b[39m*\u001b[39m\u001b[39m*\u001b[39mkwargs)\n\u001b[1;32m   3383\u001b[0m     \u001b[39mself\u001b[39m\u001b[39m.\u001b[39mdata, \u001b[39mself\u001b[39m\u001b[39m.\u001b[39mhconcat \u001b[39m=\u001b[39m _combine_subchart_data(\u001b[39mself\u001b[39m\u001b[39m.\u001b[39mdata, \u001b[39mself\u001b[39m\u001b[39m.\u001b[39mhconcat)\n",
      "File \u001b[0;32m~/opt/anaconda3/envs/si649/lib/python3.12/site-packages/altair/vegalite/v5/api.py:3071\u001b[0m, in \u001b[0;36m_check_if_valid_subspec\u001b[0;34m(spec, classname)\u001b[0m\n\u001b[1;32m   3069\u001b[0m     val \u001b[39m=\u001b[39m spec\u001b[39m.\u001b[39mget(attr, Undefined)\n\u001b[1;32m   3070\u001b[0m \u001b[39mif\u001b[39;00m val \u001b[39mis\u001b[39;00m \u001b[39mnot\u001b[39;00m Undefined:\n\u001b[0;32m-> 3071\u001b[0m     \u001b[39mraise\u001b[39;00m \u001b[39mValueError\u001b[39;00m(err\u001b[39m.\u001b[39mformat(attr, classname))\n",
      "\u001b[0;31mValueError\u001b[0m: Objects with \"config\" attribute cannot be used within HConcatChart. Consider defining the config attribute in the HConcatChart object instead."
     ]
    }
   ],
   "source": [
    "goals = in_match_evolution()\n",
    "goals.configure_legend(\n",
    "    titleFontSize=15,\n",
    "    labelFontSize=12\n",
    ").configure_title(\n",
    "    fontSize=20\n",
    ")\n",
    "goals.save('goals.html')\n"
   ]
  },
  {
   "cell_type": "code",
   "execution_count": null,
   "metadata": {},
   "outputs": [],
   "source": [
    "goals.save('goals.html')\n"
   ]
  }
 ],
 "metadata": {
  "kernelspec": {
   "display_name": "si649",
   "language": "python",
   "name": "python3"
  },
  "language_info": {
   "codemirror_mode": {
    "name": "ipython",
    "version": 3
   },
   "file_extension": ".py",
   "mimetype": "text/x-python",
   "name": "python",
   "nbconvert_exporter": "python",
   "pygments_lexer": "ipython3",
   "version": "3.12.1"
  },
  "orig_nbformat": 4,
  "vscode": {
   "interpreter": {
    "hash": "b3f7b176895ba706d8f3bacbb68aeac9706a70bda4e93d3a7c0026550ebd0b70"
   }
  }
 },
 "nbformat": 4,
 "nbformat_minor": 2
}
